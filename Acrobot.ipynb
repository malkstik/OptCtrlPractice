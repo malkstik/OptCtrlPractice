{
 "cells": [
  {
   "cell_type": "code",
   "execution_count": 1,
   "metadata": {},
   "outputs": [
    {
     "name": "stderr",
     "output_type": "stream",
     "text": [
      "INFO:drake:Meshcat listening for connections at http://localhost:7000\n"
     ]
    }
   ],
   "source": [
    "%load_ext autoreload\n",
    "%autoreload 2\n",
    "\n",
    "import numpy as np\n",
    "from pydrake.all import (\n",
    "    ControllabilityMatrix,\n",
    "    DiagramBuilder,\n",
    "    Linearize,\n",
    "    LinearQuadraticRegulator,\n",
    "    MeshcatVisualizer,\n",
    "    Saturation,\n",
    "    SceneGraph,\n",
    "    Simulator,\n",
    "    StartMeshcat,\n",
    "    WrapToSystem,\n",
    "    LinearSystem\n",
    ")\n",
    "from pydrake.examples import AcrobotGeometry, AcrobotInput, AcrobotPlant, AcrobotState\n",
    "\n",
    "meshcat = StartMeshcat()"
   ]
  },
  {
   "cell_type": "code",
   "execution_count": 80,
   "metadata": {},
   "outputs": [
    {
     "name": "stdout",
     "output_type": "stream",
     "text": [
      "The singular values of the controllability matrix are: [5.11718692e+02 1.23084288e+02 8.06819874e-02 7.15326677e-02]\n"
     ]
    }
   ],
   "source": [
    "def UprightState():\n",
    "    state = AcrobotState()\n",
    "    state.set_theta1(np.pi)\n",
    "    state.set_theta2(0.0)\n",
    "    state.set_theta1dot(0.0)\n",
    "    state.set_theta2dot(0.0)\n",
    "    return state"
   ]
  },
  {
   "cell_type": "code",
   "execution_count": 64,
   "metadata": {},
   "outputs": [
    {
     "name": "stdout",
     "output_type": "stream",
     "text": [
      "Init utraj\n"
     ]
    },
    {
     "name": "stderr",
     "output_type": "stream",
     "text": [
      "/usr/lib/python3/dist-packages/numpy/linalg/linalg.py:2560: RuntimeWarning: overflow encountered in multiply\n",
      "  s = (x.conj() * x).real\n",
      "/home/malkstik/mnt/control/models/acrobot.py:116: RuntimeWarning: overflow encountered in matmul\n",
      "  state_cost = 0.5*(xerr).T @ self.Q @ (xerr)\n",
      "/home/malkstik/mnt/control/models/acrobot.py:117: RuntimeWarning: overflow encountered in matmul\n",
      "  action_cost = 0.5*(uerr).T @ self.R @ (uerr)\n"
     ]
    },
    {
     "ename": "LinAlgError",
     "evalue": "Array must not contain infs or NaNs",
     "output_type": "error",
     "traceback": [
      "\u001b[0;31m---------------------------------------------------------------------------\u001b[0m",
      "\u001b[0;31mLinAlgError\u001b[0m                               Traceback (most recent call last)",
      "\u001b[0;32m/tmp/ipykernel_694044/1934231635.py\u001b[0m in \u001b[0;36m<module>\u001b[0;34m\u001b[0m\n\u001b[1;32m     85\u001b[0m         \u001b[0msimulator\u001b[0m\u001b[0;34m.\u001b[0m\u001b[0mAdvanceTo\u001b[0m\u001b[0;34m(\u001b[0m\u001b[0mduration\u001b[0m\u001b[0;34m)\u001b[0m\u001b[0;34m\u001b[0m\u001b[0;34m\u001b[0m\u001b[0m\n\u001b[1;32m     86\u001b[0m \u001b[0;34m\u001b[0m\u001b[0m\n\u001b[0;32m---> 87\u001b[0;31m \u001b[0msimulate\u001b[0m\u001b[0;34m(\u001b[0m\u001b[0mdiagram\u001b[0m\u001b[0;34m)\u001b[0m\u001b[0;34m\u001b[0m\u001b[0;34m\u001b[0m\u001b[0m\n\u001b[0m",
      "\u001b[0;32m/tmp/ipykernel_694044/1934231635.py\u001b[0m in \u001b[0;36msimulate\u001b[0;34m(diagram)\u001b[0m\n\u001b[1;32m     83\u001b[0m         \u001b[0;31m# context.SetContinuousState(np.array([np.pi/3, , 0.0, 0.0]))\u001b[0m\u001b[0;34m\u001b[0m\u001b[0;34m\u001b[0m\u001b[0m\n\u001b[1;32m     84\u001b[0m         \u001b[0msimulator\u001b[0m\u001b[0;34m.\u001b[0m\u001b[0mInitialize\u001b[0m\u001b[0;34m(\u001b[0m\u001b[0;34m)\u001b[0m\u001b[0;34m\u001b[0m\u001b[0;34m\u001b[0m\u001b[0m\n\u001b[0;32m---> 85\u001b[0;31m         \u001b[0msimulator\u001b[0m\u001b[0;34m.\u001b[0m\u001b[0mAdvanceTo\u001b[0m\u001b[0;34m(\u001b[0m\u001b[0mduration\u001b[0m\u001b[0;34m)\u001b[0m\u001b[0;34m\u001b[0m\u001b[0;34m\u001b[0m\u001b[0m\n\u001b[0m\u001b[1;32m     86\u001b[0m \u001b[0;34m\u001b[0m\u001b[0m\n\u001b[1;32m     87\u001b[0m \u001b[0msimulate\u001b[0m\u001b[0;34m(\u001b[0m\u001b[0mdiagram\u001b[0m\u001b[0;34m)\u001b[0m\u001b[0;34m\u001b[0m\u001b[0;34m\u001b[0m\u001b[0m\n",
      "\u001b[0;32m/home/malkstik/mnt/control/AcrobotControllers.py\u001b[0m in \u001b[0;36mDoCalcVectorOutput\u001b[0;34m(self, context, motor_current)\u001b[0m\n\u001b[1;32m     65\u001b[0m             \u001b[0mself\u001b[0m\u001b[0;34m.\u001b[0m\u001b[0mutraj\u001b[0m\u001b[0;34m[\u001b[0m\u001b[0;34m:\u001b[0m\u001b[0;34m-\u001b[0m\u001b[0;36m1\u001b[0m\u001b[0;34m,\u001b[0m \u001b[0;34m:\u001b[0m\u001b[0;34m]\u001b[0m \u001b[0;34m=\u001b[0m \u001b[0mself\u001b[0m\u001b[0;34m.\u001b[0m\u001b[0mutraj\u001b[0m\u001b[0;34m[\u001b[0m\u001b[0;36m1\u001b[0m\u001b[0;34m:\u001b[0m\u001b[0;34m,\u001b[0m\u001b[0;34m:\u001b[0m\u001b[0;34m]\u001b[0m\u001b[0;34m\u001b[0m\u001b[0;34m\u001b[0m\u001b[0m\n\u001b[1;32m     66\u001b[0m \u001b[0;34m\u001b[0m\u001b[0m\n\u001b[0;32m---> 67\u001b[0;31m         \u001b[0mself\u001b[0m\u001b[0;34m.\u001b[0m\u001b[0mxtraj\u001b[0m\u001b[0;34m,\u001b[0m \u001b[0mself\u001b[0m\u001b[0;34m.\u001b[0m\u001b[0mutraj\u001b[0m \u001b[0;34m=\u001b[0m \u001b[0mself\u001b[0m\u001b[0;34m.\u001b[0m\u001b[0mcontroller\u001b[0m\u001b[0;34m.\u001b[0m\u001b[0mrun_ilqr\u001b[0m\u001b[0;34m(\u001b[0m\u001b[0mcurrent_state\u001b[0m\u001b[0;34m,\u001b[0m \u001b[0mself\u001b[0m\u001b[0;34m.\u001b[0m\u001b[0mutraj\u001b[0m\u001b[0;34m)\u001b[0m\u001b[0;34m\u001b[0m\u001b[0;34m\u001b[0m\u001b[0m\n\u001b[0m\u001b[1;32m     68\u001b[0m \u001b[0;34m\u001b[0m\u001b[0m\n\u001b[1;32m     69\u001b[0m         \u001b[0mmotor_current\u001b[0m\u001b[0;34m.\u001b[0m\u001b[0mSetFromVector\u001b[0m\u001b[0;34m(\u001b[0m\u001b[0mself\u001b[0m\u001b[0;34m.\u001b[0m\u001b[0mutraj\u001b[0m\u001b[0;34m[\u001b[0m\u001b[0;36m0\u001b[0m\u001b[0;34m,\u001b[0m \u001b[0;34m:\u001b[0m\u001b[0;34m]\u001b[0m\u001b[0;34m)\u001b[0m\u001b[0;34m\u001b[0m\u001b[0;34m\u001b[0m\u001b[0m\n",
      "\u001b[0;32m/home/malkstik/mnt/control/iLQRController.py\u001b[0m in \u001b[0;36mrun_ilqr\u001b[0;34m(self, x0, u_trj)\u001b[0m\n\u001b[1;32m     50\u001b[0m             \u001b[0mJprev\u001b[0m \u001b[0;34m=\u001b[0m \u001b[0mJ\u001b[0m\u001b[0;34m\u001b[0m\u001b[0;34m\u001b[0m\u001b[0m\n\u001b[1;32m     51\u001b[0m \u001b[0;34m\u001b[0m\u001b[0m\n\u001b[0;32m---> 52\u001b[0;31m             \u001b[0md\u001b[0m\u001b[0;34m[\u001b[0m\u001b[0;34m:\u001b[0m\u001b[0;34m]\u001b[0m\u001b[0;34m,\u001b[0m \u001b[0mK\u001b[0m\u001b[0;34m[\u001b[0m\u001b[0;34m:\u001b[0m\u001b[0;34m]\u001b[0m\u001b[0;34m,\u001b[0m \u001b[0mdeltaJ\u001b[0m \u001b[0;34m=\u001b[0m \u001b[0mself\u001b[0m\u001b[0;34m.\u001b[0m\u001b[0m_backward_pass\u001b[0m\u001b[0;34m(\u001b[0m\u001b[0mx_trj\u001b[0m\u001b[0;34m,\u001b[0m \u001b[0mu_trj\u001b[0m\u001b[0;34m,\u001b[0m \u001b[0md\u001b[0m\u001b[0;34m,\u001b[0m \u001b[0mK\u001b[0m\u001b[0;34m)\u001b[0m\u001b[0;34m\u001b[0m\u001b[0;34m\u001b[0m\u001b[0m\n\u001b[0m\u001b[1;32m     53\u001b[0m             \u001b[0;31m#Line search\u001b[0m\u001b[0;34m\u001b[0m\u001b[0;34m\u001b[0m\u001b[0m\n\u001b[1;32m     54\u001b[0m             \u001b[0mline_search_iters\u001b[0m \u001b[0;34m=\u001b[0m \u001b[0;36m0\u001b[0m\u001b[0;34m\u001b[0m\u001b[0;34m\u001b[0m\u001b[0m\n",
      "\u001b[0;32m/home/malkstik/mnt/control/iLQRController.py\u001b[0m in \u001b[0;36m_backward_pass\u001b[0;34m(self, x_trj, u_trj, d, K)\u001b[0m\n\u001b[1;32m    139\u001b[0m             \u001b[0mregu\u001b[0m \u001b[0;34m=\u001b[0m \u001b[0;36m0.1\u001b[0m\u001b[0;34m\u001b[0m\u001b[0;34m\u001b[0m\u001b[0m\n\u001b[1;32m    140\u001b[0m             \u001b[0mQ\u001b[0m \u001b[0;34m=\u001b[0m \u001b[0mself\u001b[0m\u001b[0;34m.\u001b[0m\u001b[0m_full_hessian\u001b[0m\u001b[0;34m(\u001b[0m\u001b[0mQ_xx\u001b[0m\u001b[0;34m,\u001b[0m \u001b[0mQ_ux\u001b[0m\u001b[0;34m,\u001b[0m \u001b[0mQ_uu\u001b[0m\u001b[0;34m)\u001b[0m\u001b[0;34m\u001b[0m\u001b[0;34m\u001b[0m\u001b[0m\n\u001b[0;32m--> 141\u001b[0;31m             \u001b[0;32mwhile\u001b[0m \u001b[0mnp\u001b[0m\u001b[0;34m.\u001b[0m\u001b[0many\u001b[0m\u001b[0;34m(\u001b[0m\u001b[0mnp\u001b[0m\u001b[0;34m.\u001b[0m\u001b[0mlinalg\u001b[0m\u001b[0;34m.\u001b[0m\u001b[0meigvals\u001b[0m\u001b[0;34m(\u001b[0m\u001b[0mQ\u001b[0m\u001b[0;34m)\u001b[0m \u001b[0;34m<\u001b[0m \u001b[0;36m0\u001b[0m\u001b[0;34m)\u001b[0m\u001b[0;34m:\u001b[0m\u001b[0;34m\u001b[0m\u001b[0;34m\u001b[0m\u001b[0m\n\u001b[0m\u001b[1;32m    142\u001b[0m                 \u001b[0mQ_xx\u001b[0m \u001b[0;34m+=\u001b[0m \u001b[0mregu\u001b[0m\u001b[0;34m*\u001b[0m \u001b[0mf_x\u001b[0m\u001b[0;34m.\u001b[0m\u001b[0mT\u001b[0m \u001b[0;34m@\u001b[0m \u001b[0mf_x\u001b[0m\u001b[0;34m\u001b[0m\u001b[0;34m\u001b[0m\u001b[0m\n\u001b[1;32m    143\u001b[0m                 \u001b[0mQ_uu\u001b[0m \u001b[0;34m+=\u001b[0m \u001b[0mregu\u001b[0m\u001b[0;34m*\u001b[0m \u001b[0mf_u\u001b[0m\u001b[0;34m.\u001b[0m\u001b[0mT\u001b[0m \u001b[0;34m@\u001b[0m \u001b[0mf_u\u001b[0m\u001b[0;34m\u001b[0m\u001b[0;34m\u001b[0m\u001b[0m\n",
      "\u001b[0;32m<__array_function__ internals>\u001b[0m in \u001b[0;36meigvals\u001b[0;34m(*args, **kwargs)\u001b[0m\n",
      "\u001b[0;32m/usr/lib/python3/dist-packages/numpy/linalg/linalg.py\u001b[0m in \u001b[0;36meigvals\u001b[0;34m(a)\u001b[0m\n\u001b[1;32m   1060\u001b[0m     \u001b[0m_assert_stacked_2d\u001b[0m\u001b[0;34m(\u001b[0m\u001b[0ma\u001b[0m\u001b[0;34m)\u001b[0m\u001b[0;34m\u001b[0m\u001b[0;34m\u001b[0m\u001b[0m\n\u001b[1;32m   1061\u001b[0m     \u001b[0m_assert_stacked_square\u001b[0m\u001b[0;34m(\u001b[0m\u001b[0ma\u001b[0m\u001b[0;34m)\u001b[0m\u001b[0;34m\u001b[0m\u001b[0;34m\u001b[0m\u001b[0m\n\u001b[0;32m-> 1062\u001b[0;31m     \u001b[0m_assert_finite\u001b[0m\u001b[0;34m(\u001b[0m\u001b[0ma\u001b[0m\u001b[0;34m)\u001b[0m\u001b[0;34m\u001b[0m\u001b[0;34m\u001b[0m\u001b[0m\n\u001b[0m\u001b[1;32m   1063\u001b[0m     \u001b[0mt\u001b[0m\u001b[0;34m,\u001b[0m \u001b[0mresult_t\u001b[0m \u001b[0;34m=\u001b[0m \u001b[0m_commonType\u001b[0m\u001b[0;34m(\u001b[0m\u001b[0ma\u001b[0m\u001b[0;34m)\u001b[0m\u001b[0;34m\u001b[0m\u001b[0;34m\u001b[0m\u001b[0m\n\u001b[1;32m   1064\u001b[0m \u001b[0;34m\u001b[0m\u001b[0m\n",
      "\u001b[0;32m/usr/lib/python3/dist-packages/numpy/linalg/linalg.py\u001b[0m in \u001b[0;36m_assert_finite\u001b[0;34m(*arrays)\u001b[0m\n\u001b[1;32m    206\u001b[0m     \u001b[0;32mfor\u001b[0m \u001b[0ma\u001b[0m \u001b[0;32min\u001b[0m \u001b[0marrays\u001b[0m\u001b[0;34m:\u001b[0m\u001b[0;34m\u001b[0m\u001b[0;34m\u001b[0m\u001b[0m\n\u001b[1;32m    207\u001b[0m         \u001b[0;32mif\u001b[0m \u001b[0;32mnot\u001b[0m \u001b[0misfinite\u001b[0m\u001b[0;34m(\u001b[0m\u001b[0ma\u001b[0m\u001b[0;34m)\u001b[0m\u001b[0;34m.\u001b[0m\u001b[0mall\u001b[0m\u001b[0;34m(\u001b[0m\u001b[0;34m)\u001b[0m\u001b[0;34m:\u001b[0m\u001b[0;34m\u001b[0m\u001b[0;34m\u001b[0m\u001b[0m\n\u001b[0;32m--> 208\u001b[0;31m             \u001b[0;32mraise\u001b[0m \u001b[0mLinAlgError\u001b[0m\u001b[0;34m(\u001b[0m\u001b[0;34m\"Array must not contain infs or NaNs\"\u001b[0m\u001b[0;34m)\u001b[0m\u001b[0;34m\u001b[0m\u001b[0;34m\u001b[0m\u001b[0m\n\u001b[0m\u001b[1;32m    209\u001b[0m \u001b[0;34m\u001b[0m\u001b[0m\n\u001b[1;32m    210\u001b[0m \u001b[0;32mdef\u001b[0m \u001b[0m_is_empty_2d\u001b[0m\u001b[0;34m(\u001b[0m\u001b[0marr\u001b[0m\u001b[0;34m)\u001b[0m\u001b[0;34m:\u001b[0m\u001b[0;34m\u001b[0m\u001b[0;34m\u001b[0m\u001b[0m\n",
      "\u001b[0;31mLinAlgError\u001b[0m: Array must not contain infs or NaNs"
     ]
    }
   ],
   "source": [
    "from control.AcrobotControllers import AcrobotiLQRController, AcrobotLQRController\n",
    "from control.UtilLeafSystems import NonConstantVectorSource\n",
    "\n",
    "builder = DiagramBuilder()\n",
    "acrobot = builder.AddSystem(AcrobotPlant())\n",
    "# saturation = builder.AddSystem(\n",
    "#     Saturation(min_value=[-10], max_value=[10])\n",
    "#     )\n",
    "# builder.Connect(\n",
    "#     saturation.get_output_port(0), acrobot.get_input_port(0)\n",
    "#     )\n",
    "wrapangles = WrapToSystem(4)\n",
    "wrapangles.set_interval(0, 0, 2.0 * np.pi)\n",
    "wrapangles.set_interval(1, -np.pi, np.pi)\n",
    "wrapto = builder.AddSystem(wrapangles)\n",
    "builder.Connect(acrobot.get_output_port(0), wrapto.get_input_port(0))\n",
    "\n",
    "\n",
    "goal_state_source = builder.AddSystem(NonConstantVectorSource(4))\n",
    "\n",
    "Q = np.diag(np.concatenate(([0.0] * 2, [0.01] * 2)))\n",
    "Qf = np.diag(np.concatenate(([100.0] * 2, [100.0] * 2)))\n",
    "R = np.diag([0.01])\n",
    "dt = 0.05\n",
    "N = 40\n",
    "dt = 0.05\n",
    "iLQRParams = {\n",
    "    \"acrobot\" : acrobot,\n",
    "    \"Q\" : Q,\n",
    "    \"R\" : R,\n",
    "    \"Qf\" : Qf,\n",
    "    \"N\" : N,\n",
    "    \"dt\" : dt,\n",
    "    \"max_iter\" : 50,\n",
    "    \"max_linesearch_iters\": 20,\n",
    "    \"mode\": \"discrete\"\n",
    "}\n",
    "\n",
    "controller = builder.AddSystem(AcrobotiLQRController(**iLQRParams))\n",
    "# controller = builder.AddSystem(AcrobotLQRController(**iLQRParams))\n",
    "\n",
    "builder.Connect(\n",
    "    wrapto.get_output_port(0), controller.get_input_port(0)\n",
    "    )\n",
    "builder.Connect(\n",
    "    controller.get_output_port(0), acrobot.get_input_port(0)\n",
    "    )\n",
    "builder.Connect(\n",
    "    goal_state_source.get_output_port(), controller.get_input_port(1)\n",
    "    )\n",
    " # Setup visualization\n",
    "scene_graph = builder.AddSystem(SceneGraph())\n",
    "AcrobotGeometry.AddToBuilder(builder, acrobot.get_output_port(0), scene_graph)\n",
    "meshcat.Delete()\n",
    "meshcat.Set2dRenderMode(xmin=-4, xmax=4, ymin=-4, ymax=4)\n",
    "MeshcatVisualizer.AddToBuilder(builder, scene_graph, meshcat)\n",
    "\n",
    "diagram = builder.Build()\n",
    "\n",
    "\n",
    "def simulate(diagram):\n",
    "    # Set up a simulator to run this diagram\n",
    "    simulator = Simulator(diagram)\n",
    "    context = simulator.get_mutable_context()\n",
    "\n",
    "    # Simulate\n",
    "    simulator.set_target_realtime_rate(1.0)\n",
    "    duration = 10.0\n",
    "    ref_state = np.array([np.pi, 0., 0., 0.])\n",
    "    goal_state_source.SetState(ref_state)\n",
    "    for i in range(5):\n",
    "        context.SetTime(0.0)\n",
    "        context.SetContinuousState(\n",
    "            ref_state\n",
    "            + 0.5\n",
    "            * np.random.randn(\n",
    "                4,\n",
    "            )\n",
    "        )\n",
    "        # context.SetContinuousState(np.array([np.pi/3, , 0.0, 0.0]))\n",
    "        simulator.Initialize()\n",
    "        simulator.AdvanceTo(duration)\n",
    "\n",
    "simulate(diagram)"
   ]
  },
  {
   "cell_type": "code",
   "execution_count": 71,
   "metadata": {},
   "outputs": [
    {
     "data": {
      "text/markdown": [
       "**t = 5.9500s:**\n",
       "```\n",
       "Error: [-4.37274180e-06 -1.42099503e-05  3.27897707e-05  8.91836754e-05]\n",
       "```\n",
       "**Control:**\n",
       "```\n",
       "[0.00018036]\n",
       "```\n",
       "**Terminal State Err:**\n",
       "```\n",
       "[-2.75049665e-07 -1.46752638e-07 -2.70006483e-07 -1.33102914e-07]"
      ],
      "text/plain": [
       "<IPython.core.display.Markdown object>"
      ]
     },
     "metadata": {},
     "output_type": "display_data"
    }
   ],
   "source": [
    "from IPython.display import SVG, display, clear_output, Markdown\n",
    "from control.models.acrobot import Acrobot2DModel\n",
    "from control.iLQRController import iLQR\n",
    "\n",
    "Q = np.diag(np.concatenate(([1.0] * 2, [0.1] * 2)))\n",
    "Qf = np.diag(np.concatenate(([100.0] * 2, [100.0] * 2)))\n",
    "R = np.diag([0.01])\n",
    "dt = 0.05\n",
    "N = 40\n",
    "\n",
    "iLQRParams = {\n",
    "    \"Q\" : Q,\n",
    "    \"R\" : R,\n",
    "    \"Qf\" : Qf,\n",
    "    \"N\" : N,\n",
    "    \"dt\" : dt,\n",
    "    \"max_iter\" : 20,\n",
    "    \"regu_init\" : 1000.0,\n",
    "    \"min_regu\": 0.001,\n",
    "    \"max_regu\": 10000,\n",
    "    \"max_linesearch_iters\": 10,\n",
    "    \"integration\": \"euler\",\n",
    "}\n",
    "plant = Acrobot2DModel(**iLQRParams)\n",
    "controller = iLQR(plant, **iLQRParams)\n",
    "goal_state  = np.array([np.pi, 0., 0., 0.])\n",
    "# goal_state  = np.array([0., 0., 0., 0.])\n",
    "current_state = np.array([0., 0., 0., 0.])\n",
    "\n",
    "nx, nu = plant.get_dims()\n",
    "uref = np.zeros(nu, dtype = np.float64)\n",
    "xtraj = np.zeros((N, nx))\n",
    "utraj = np.zeros((N-1, nu))\n",
    "controller.model.set_references(goal_state, uref)\n",
    "\n",
    "# print(controller.model.discrete_dynamics(goal_state, 0))\n",
    "# print(controller.model.xdot_fun(goal_state, 0))\n",
    "state_error = 0\n",
    "time = 0\n",
    "while np.linalg.norm(state_error) > 1e-4 or time == 0:\n",
    "    if not utraj.any():\n",
    "        utraj[:] = np.random.randn(N-1, nu)*1.0\n",
    "    else:\n",
    "        # Use previous utraj as initial guess with shifting \n",
    "        # forward a single timestep, \n",
    "        utraj[:-1, :] = utraj[1:,:] #+  np.random.randn(N-2, nu)\n",
    "\n",
    "    xtraj, utraj = controller.run_ilqr(current_state, utraj)\n",
    "    current_state = xtraj[1, :]\n",
    "    u = utraj[0, :]\n",
    "    current_state = np.squeeze(current_state)\n",
    "\n",
    "    state_error = current_state - goal_state\n",
    "    state_error[:2] /= np.pi\n",
    "    terminal_state_error = xtraj[-1, :] - goal_state\n",
    "    terminal_state_error[:2] /= np.pi\n",
    "    # print(xtraj)\n",
    "    clear_output(wait=True)\n",
    "    display(Markdown(f\"**t = {time:4.4f}s:**\\n```\\nError: {state_error}\\n```\\n**Control:**\\n```\\n{u}\\n```\\n**Terminal State Err:**\\n```\\n{terminal_state_error}\"))\n",
    "    time += dt"
   ]
  }
 ],
 "metadata": {
  "kernelspec": {
   "display_name": "Python 3",
   "language": "python",
   "name": "python3"
  },
  "language_info": {
   "codemirror_mode": {
    "name": "ipython",
    "version": 3
   },
   "file_extension": ".py",
   "mimetype": "text/x-python",
   "name": "python",
   "nbconvert_exporter": "python",
   "pygments_lexer": "ipython3",
   "version": "3.10.12"
  },
  "orig_nbformat": 4
 },
 "nbformat": 4,
 "nbformat_minor": 2
}
